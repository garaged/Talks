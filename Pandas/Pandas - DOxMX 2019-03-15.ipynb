{
 "cells": [
  {
   "cell_type": "markdown",
   "metadata": {
    "slideshow": {
     "slide_type": "slide"
    }
   },
   "source": [
    "# <center>Pandas</center>\n",
    "\n",
    "## <center>DOxMX</center>\n",
    "\n",
    "## <center>15 de marzo de 2019<center>\n",
    "\n",
    "## <center>Max (GaRaGeD) Valdez</center>"
   ]
  },
  {
   "cell_type": "markdown",
   "metadata": {
    "slideshow": {
     "slide_type": "slide"
    }
   },
   "source": [
    "# Pandas: Python Data Analysis Library\n",
    "\n",
    "https://pandas.pydata.org\n",
    "\n",
    "pandas is an open source, BSD-licensed library providing high-performance, easy-to-use data structures and data analysis tools for the Python programming language."
   ]
  },
  {
   "cell_type": "markdown",
   "metadata": {
    "slideshow": {
     "slide_type": "slide"
    }
   },
   "source": [
    "# ¿ Qué es, para dónde va y cuánto le falta ?\n",
    "\n",
    "Pandas es una herramienta para analizar y manipular datos \"relacionales\" o \"etiquetados\" de manera sencilla...\n",
    "\n",
    "El objetivo de desarrollo es hacer de Pandas una de las herramientas más importantes en cuestión de análisis de datos, ciencia de datos, machine learning y demás. \n",
    "\n",
    "En general podemos decir que ya está ahí, y probablemente siga como líder en el área por mucho tiempo."
   ]
  },
  {
   "cell_type": "markdown",
   "metadata": {
    "slideshow": {
     "slide_type": "subslide"
    }
   },
   "source": [
    "Entre las cosas que se pueden hacer con Pandas están:\n",
    "* Trabajar con datos tabulares heterogéneos como los que se usan en SQL, Hojas de Cálculo, etc.\n",
    "* Manejar series de tiempo en todas sus variantes\n",
    "* Datos matriciales (2D) de cualquier tipo\n",
    "* Cualquier tipo de datos experimentales, estadísticos\n",
    "* No es necesario que los datos estén etiquetados"
   ]
  },
  {
   "cell_type": "markdown",
   "metadata": {
    "slideshow": {
     "slide_type": "subslide"
    }
   },
   "source": [
    "# Tipos de datos\n",
    "\n",
    "* Series (1D)\n",
    "* DataFrame (2D)\n",
    "\n",
    "Con ellos se pueden manejar muchos tipos de los análisis estadísticos, financieros, de ciencias sociales, biología e ingeniería.\n",
    "\n",
    "Un DataFrame hace lo mismo que un data.frame de R y más, gracias a que Pandas implementa sus características sobre NumPy heredando todas las características del este y extendiéndolo."
   ]
  },
  {
   "cell_type": "markdown",
   "metadata": {
    "slideshow": {
     "slide_type": "subslide"
    }
   },
   "source": [
    "Pandas ayuda a realizar fácilmente:\n",
    "* Manejo de huecos de datos (faltantes)\n",
    "* Cambio de tamaño: se pueden borrar e insertar columnas trivialmente\n",
    "* Agrupar (group by) datos de manera versátil para agregar y tranformar con operaciones de separación-aplicación-combinación\n",
    "* Conversión de otros tipos de datos de Python y NumPy a DataFrame de manera sencilla\n",
    "* \"Slicing\" inteligente basado en etiquetas, indizado elegante y subselección en juegos de datos masivos\n",
    "* Merge y Join intuitivo entre juegos de datos (DataFrames)\n",
    "* Etiquetado gerárquico de ejes (soporta múltiples índices)\n",
    "* Robusta maquinaria de I/O (CSV, Excel, SQL, HDF5)\n",
    "* Funcionalidades especiales para series de datos: generación de rangos, conversión de frecuencias, análisis de \"ventanas movibles\", regresiones lineales sobre \"ventanas movibles\", *shifting/lagging*, etc. "
   ]
  },
  {
   "cell_type": "markdown",
   "metadata": {
    "slideshow": {
     "slide_type": "subslide"
    }
   },
   "source": [
    "# Soporte\n",
    "Se pueden crear *issues* en github, y la comunidad de desarrollo y muchos expertos dan ayuda de manera *oficial* en Stack Overflow."
   ]
  },
  {
   "cell_type": "markdown",
   "metadata": {
    "slideshow": {
     "slide_type": "slide"
    }
   },
   "source": [
    "# <center>Usage</center>"
   ]
  },
  {
   "cell_type": "code",
   "execution_count": 4,
   "metadata": {
    "slideshow": {
     "slide_type": "subslide"
    }
   },
   "outputs": [],
   "source": [
    "import numpy as np\n",
    "import pandas as pd"
   ]
  },
  {
   "cell_type": "code",
   "execution_count": null,
   "metadata": {
    "slideshow": {
     "slide_type": "subslide"
    }
   },
   "outputs": [],
   "source": [
    "s = pd.Series([1, 3, 5, np.nan, 6, 8])\n",
    "s"
   ]
  },
  {
   "cell_type": "code",
   "execution_count": null,
   "metadata": {},
   "outputs": [],
   "source": []
  },
  {
   "cell_type": "code",
   "execution_count": null,
   "metadata": {
    "slideshow": {
     "slide_type": "subslide"
    }
   },
   "outputs": [],
   "source": [
    "dates = pd.date_range('20130101', periods=6)\n",
    "dates"
   ]
  },
  {
   "cell_type": "code",
   "execution_count": null,
   "metadata": {},
   "outputs": [],
   "source": [
    "df = pd.DataFrame(np.random.randn(6, 4), \n",
    "    index=dates, columns=list('ABCD'))\n",
    "df"
   ]
  },
  {
   "cell_type": "code",
   "execution_count": null,
   "metadata": {
    "slideshow": {
     "slide_type": "subslide"
    }
   },
   "outputs": [],
   "source": [
    "df2 = pd.DataFrame({'A': 1.,\n",
    "    'B': pd.Timestamp('20130102'),\n",
    "    'C': pd.Series(1, index=list(range(4)), dtype='float32'),\n",
    "    'D': np.array([3] * 4, dtype='int32'),\n",
    "    'E': pd.Categorical([\"test\", \"train\", \"test\", \"train\"]),\n",
    "    'F': 'foo'})\n",
    "df2"
   ]
  },
  {
   "cell_type": "code",
   "execution_count": null,
   "metadata": {
    "slideshow": {
     "slide_type": "subslide"
    }
   },
   "outputs": [],
   "source": [
    "df2.dtypes"
   ]
  },
  {
   "cell_type": "code",
   "execution_count": null,
   "metadata": {
    "slideshow": {
     "slide_type": "subslide"
    }
   },
   "outputs": [],
   "source": [
    "## <TAB> para auto completar nombres de columnas o atributos/métodos\n",
    "df2."
   ]
  },
  {
   "cell_type": "code",
   "execution_count": null,
   "metadata": {
    "slideshow": {
     "slide_type": "subslide"
    }
   },
   "outputs": [],
   "source": [
    "df.head()"
   ]
  },
  {
   "cell_type": "code",
   "execution_count": null,
   "metadata": {},
   "outputs": [],
   "source": [
    "df.tail()"
   ]
  },
  {
   "cell_type": "code",
   "execution_count": null,
   "metadata": {
    "scrolled": true
   },
   "outputs": [],
   "source": [
    "df.index"
   ]
  },
  {
   "cell_type": "code",
   "execution_count": null,
   "metadata": {},
   "outputs": [],
   "source": [
    "df.columns"
   ]
  },
  {
   "cell_type": "code",
   "execution_count": null,
   "metadata": {},
   "outputs": [],
   "source": [
    "df.shape"
   ]
  },
  {
   "cell_type": "markdown",
   "metadata": {
    "slideshow": {
     "slide_type": "slide"
    }
   },
   "source": [
    "# <center>Estadística (Promedios !!)</center>"
   ]
  },
  {
   "cell_type": "code",
   "execution_count": null,
   "metadata": {
    "slideshow": {
     "slide_type": "subslide"
    }
   },
   "outputs": [],
   "source": [
    "df.describe()"
   ]
  },
  {
   "cell_type": "markdown",
   "metadata": {
    "slideshow": {
     "slide_type": "slide"
    }
   },
   "source": [
    "# <center>Selección</center>"
   ]
  },
  {
   "cell_type": "code",
   "execution_count": null,
   "metadata": {},
   "outputs": [],
   "source": [
    "df['A']"
   ]
  },
  {
   "cell_type": "code",
   "execution_count": null,
   "metadata": {},
   "outputs": [],
   "source": [
    "df[0:3]"
   ]
  },
  {
   "cell_type": "code",
   "execution_count": null,
   "metadata": {
    "slideshow": {
     "slide_type": "subslide"
    }
   },
   "outputs": [],
   "source": [
    "print(df['A'][0:3])\n",
    "print()\n",
    "print(df.A[0:3])"
   ]
  },
  {
   "cell_type": "code",
   "execution_count": null,
   "metadata": {
    "slideshow": {
     "slide_type": "subslide"
    }
   },
   "outputs": [],
   "source": [
    "# Selección cruzada usando una Serie de tiempo\n",
    "df.loc[dates[0]]"
   ]
  },
  {
   "cell_type": "code",
   "execution_count": null,
   "metadata": {},
   "outputs": [],
   "source": [
    "dates"
   ]
  },
  {
   "cell_type": "code",
   "execution_count": null,
   "metadata": {
    "slideshow": {
     "slide_type": "subslide"
    }
   },
   "outputs": [],
   "source": [
    "# Multi-axis by label\n",
    "df.loc[:, ['A', 'B']]"
   ]
  },
  {
   "cell_type": "code",
   "execution_count": null,
   "metadata": {
    "slideshow": {
     "slide_type": "subslide"
    }
   },
   "outputs": [],
   "source": [
    "# Slicing (inclusivo en ambos lados)\n",
    "df.loc['20130102':'20130104', ['A', 'B']]"
   ]
  },
  {
   "cell_type": "code",
   "execution_count": null,
   "metadata": {
    "slideshow": {
     "slide_type": "subslide"
    }
   },
   "outputs": [],
   "source": [
    "# Reducción de dimensionalidad\n",
    "df.loc['20130102', ['A', 'B']]"
   ]
  },
  {
   "cell_type": "code",
   "execution_count": null,
   "metadata": {
    "slideshow": {
     "slide_type": "subslide"
    }
   },
   "outputs": [],
   "source": [
    "# Un solo valor\n",
    "df.loc[dates[0], 'A']"
   ]
  },
  {
   "cell_type": "code",
   "execution_count": null,
   "metadata": {
    "slideshow": {
     "slide_type": "subslide"
    }
   },
   "outputs": [],
   "source": [
    "# Por posición\n",
    "df.iloc[3]"
   ]
  },
  {
   "cell_type": "code",
   "execution_count": null,
   "metadata": {},
   "outputs": [],
   "source": [
    "df.iloc[3:5, 0:2]"
   ]
  },
  {
   "cell_type": "code",
   "execution_count": null,
   "metadata": {},
   "outputs": [],
   "source": [
    "df.iloc[[1, 2, 4], [0, 2]]"
   ]
  },
  {
   "cell_type": "code",
   "execution_count": null,
   "metadata": {
    "slideshow": {
     "slide_type": "subslide"
    }
   },
   "outputs": [],
   "source": [
    "# Renglones\n",
    "df.iloc[1:3, :]"
   ]
  },
  {
   "cell_type": "code",
   "execution_count": null,
   "metadata": {},
   "outputs": [],
   "source": [
    "# Columnas\n",
    "df.iloc[:, 1:3]"
   ]
  },
  {
   "cell_type": "markdown",
   "metadata": {
    "slideshow": {
     "slide_type": "slide"
    }
   },
   "source": [
    "# <center>Seleccionado por condiciones</center>"
   ]
  },
  {
   "cell_type": "code",
   "execution_count": null,
   "metadata": {
    "slideshow": {
     "slide_type": "subslide"
    }
   },
   "outputs": [],
   "source": [
    "df[df.A > 0]"
   ]
  },
  {
   "cell_type": "code",
   "execution_count": null,
   "metadata": {},
   "outputs": [],
   "source": [
    "df[df > 0]"
   ]
  },
  {
   "cell_type": "code",
   "execution_count": null,
   "metadata": {
    "slideshow": {
     "slide_type": "subslide"
    }
   },
   "outputs": [],
   "source": [
    "df2 = df.copy()\n",
    "df2['E'] = ['one', 'one', 'two', 'three', 'four', 'three']\n",
    "df2"
   ]
  },
  {
   "cell_type": "code",
   "execution_count": null,
   "metadata": {},
   "outputs": [],
   "source": [
    "df2[df2['E'].isin(['two', 'four'])]"
   ]
  },
  {
   "cell_type": "markdown",
   "metadata": {
    "slideshow": {
     "slide_type": "slide"
    }
   },
   "source": [
    "# <center>Setting</center>"
   ]
  },
  {
   "cell_type": "code",
   "execution_count": null,
   "metadata": {},
   "outputs": [],
   "source": [
    "s1 = pd.Series([1, 2, 3, 4, 5, 6], index=pd.date_range('20130102', periods=6))\n",
    "s1"
   ]
  },
  {
   "cell_type": "code",
   "execution_count": null,
   "metadata": {},
   "outputs": [],
   "source": [
    "df['F'] = s1\n",
    "df"
   ]
  },
  {
   "cell_type": "code",
   "execution_count": null,
   "metadata": {
    "slideshow": {
     "slide_type": "subslide"
    }
   },
   "outputs": [],
   "source": [
    "# por etiqueta\n",
    "df.at[dates[0], 'A'] = 0"
   ]
  },
  {
   "cell_type": "code",
   "execution_count": null,
   "metadata": {},
   "outputs": [],
   "source": [
    "# Por posición\n",
    "df.iat[0, 1] = 0"
   ]
  },
  {
   "cell_type": "code",
   "execution_count": null,
   "metadata": {},
   "outputs": [],
   "source": [
    "# Usando un array de NumPy\n",
    "df.loc[:, 'D'] = np.array([5] * len(df))\n",
    "df"
   ]
  },
  {
   "cell_type": "code",
   "execution_count": null,
   "metadata": {
    "slideshow": {
     "slide_type": "subslide"
    }
   },
   "outputs": [],
   "source": [
    "# Setting condicional\n",
    "df2 = df.copy()\n",
    "df2[df2 > 0] = -df2\n",
    "df2"
   ]
  },
  {
   "cell_type": "code",
   "execution_count": null,
   "metadata": {
    "slideshow": {
     "slide_type": "subslide"
    }
   },
   "outputs": [],
   "source": []
  },
  {
   "cell_type": "markdown",
   "metadata": {
    "slideshow": {
     "slide_type": "slide"
    }
   },
   "source": [
    "# <center>Datos faltantes</center>"
   ]
  },
  {
   "cell_type": "code",
   "execution_count": null,
   "metadata": {
    "slideshow": {
     "slide_type": "subslide"
    }
   },
   "outputs": [],
   "source": [
    "df1 = df.reindex(index=dates[0:4], columns=list(df.columns) + ['E'])\n",
    "df1"
   ]
  },
  {
   "cell_type": "code",
   "execution_count": null,
   "metadata": {},
   "outputs": [],
   "source": [
    "df1.loc[dates[0]:dates[1], 'E'] = 1\n",
    "df1"
   ]
  },
  {
   "cell_type": "code",
   "execution_count": null,
   "metadata": {},
   "outputs": [],
   "source": [
    "df1.dropna(how='any')"
   ]
  },
  {
   "cell_type": "code",
   "execution_count": null,
   "metadata": {
    "slideshow": {
     "slide_type": "subslide"
    }
   },
   "outputs": [],
   "source": [
    "df1.fillna(value=5,inplace=False) # No se guarda en df1 por defecto"
   ]
  },
  {
   "cell_type": "code",
   "execution_count": null,
   "metadata": {
    "slideshow": {
     "slide_type": "subslide"
    }
   },
   "outputs": [],
   "source": [
    "# Máscara booleana\n",
    "pd.isna(df1)"
   ]
  },
  {
   "cell_type": "markdown",
   "metadata": {
    "slideshow": {
     "slide_type": "slide"
    }
   },
   "source": [
    "# <center>Apply</center>"
   ]
  },
  {
   "cell_type": "code",
   "execution_count": null,
   "metadata": {
    "slideshow": {
     "slide_type": "subslide"
    }
   },
   "outputs": [],
   "source": [
    "np.cumsum?"
   ]
  },
  {
   "cell_type": "code",
   "execution_count": null,
   "metadata": {
    "slideshow": {
     "slide_type": "-"
    }
   },
   "outputs": [],
   "source": [
    "df.apply(np.cumsum)"
   ]
  },
  {
   "cell_type": "code",
   "execution_count": null,
   "metadata": {
    "slideshow": {
     "slide_type": "subslide"
    }
   },
   "outputs": [],
   "source": [
    "df.apply(lambda x: x.max() - x.min())"
   ]
  },
  {
   "cell_type": "code",
   "execution_count": null,
   "metadata": {
    "slideshow": {
     "slide_type": "subslide"
    }
   },
   "outputs": [],
   "source": [
    "# Si la función devuelve una serie de datos se mantiene la dimensionalidad\n",
    "size = df.A.count()\n",
    "df.apply(lambda x: [x.max() - x.min() for i in range(size)])"
   ]
  },
  {
   "cell_type": "markdown",
   "metadata": {
    "slideshow": {
     "slide_type": "slide"
    }
   },
   "source": [
    "## hartos datos !"
   ]
  },
  {
   "cell_type": "code",
   "execution_count": 14,
   "metadata": {
    "slideshow": {
     "slide_type": "subslide"
    }
   },
   "outputs": [],
   "source": [
    "l=[]\n",
    "x = np.linspace(0, 10*np.pi, 100000)\n",
    "data_df = pd.DataFrame()\n",
    "for i in range(10):\n",
    "    y = np.sin(x) + (0.1 * i)\n",
    "    data_df[\"a{}\".format(i)] = y\n",
    "data_df.set_index(x, inplace=True)"
   ]
  },
  {
   "cell_type": "code",
   "execution_count": 15,
   "metadata": {},
   "outputs": [
    {
     "name": "stdout",
     "output_type": "stream",
     "text": [
      "(100000, 10)\n"
     ]
    },
    {
     "data": {
      "text/html": [
       "<div>\n",
       "<style scoped>\n",
       "    .dataframe tbody tr th:only-of-type {\n",
       "        vertical-align: middle;\n",
       "    }\n",
       "\n",
       "    .dataframe tbody tr th {\n",
       "        vertical-align: top;\n",
       "    }\n",
       "\n",
       "    .dataframe thead th {\n",
       "        text-align: right;\n",
       "    }\n",
       "</style>\n",
       "<table border=\"1\" class=\"dataframe\">\n",
       "  <thead>\n",
       "    <tr style=\"text-align: right;\">\n",
       "      <th></th>\n",
       "      <th>a0</th>\n",
       "      <th>a1</th>\n",
       "      <th>a2</th>\n",
       "      <th>a3</th>\n",
       "      <th>a4</th>\n",
       "      <th>a5</th>\n",
       "      <th>a6</th>\n",
       "      <th>a7</th>\n",
       "      <th>a8</th>\n",
       "      <th>a9</th>\n",
       "    </tr>\n",
       "  </thead>\n",
       "  <tbody>\n",
       "    <tr>\n",
       "      <th>0.000000</th>\n",
       "      <td>0.000000</td>\n",
       "      <td>0.100000</td>\n",
       "      <td>0.200000</td>\n",
       "      <td>0.300000</td>\n",
       "      <td>0.400000</td>\n",
       "      <td>0.500000</td>\n",
       "      <td>0.600000</td>\n",
       "      <td>0.700000</td>\n",
       "      <td>0.800000</td>\n",
       "      <td>0.900000</td>\n",
       "    </tr>\n",
       "    <tr>\n",
       "      <th>0.000314</th>\n",
       "      <td>0.000314</td>\n",
       "      <td>0.100314</td>\n",
       "      <td>0.200314</td>\n",
       "      <td>0.300314</td>\n",
       "      <td>0.400314</td>\n",
       "      <td>0.500314</td>\n",
       "      <td>0.600314</td>\n",
       "      <td>0.700314</td>\n",
       "      <td>0.800314</td>\n",
       "      <td>0.900314</td>\n",
       "    </tr>\n",
       "    <tr>\n",
       "      <th>0.000628</th>\n",
       "      <td>0.000628</td>\n",
       "      <td>0.100628</td>\n",
       "      <td>0.200628</td>\n",
       "      <td>0.300628</td>\n",
       "      <td>0.400628</td>\n",
       "      <td>0.500628</td>\n",
       "      <td>0.600628</td>\n",
       "      <td>0.700628</td>\n",
       "      <td>0.800628</td>\n",
       "      <td>0.900628</td>\n",
       "    </tr>\n",
       "    <tr>\n",
       "      <th>0.000942</th>\n",
       "      <td>0.000942</td>\n",
       "      <td>0.100942</td>\n",
       "      <td>0.200942</td>\n",
       "      <td>0.300942</td>\n",
       "      <td>0.400942</td>\n",
       "      <td>0.500942</td>\n",
       "      <td>0.600942</td>\n",
       "      <td>0.700942</td>\n",
       "      <td>0.800942</td>\n",
       "      <td>0.900942</td>\n",
       "    </tr>\n",
       "    <tr>\n",
       "      <th>0.001257</th>\n",
       "      <td>0.001257</td>\n",
       "      <td>0.101257</td>\n",
       "      <td>0.201257</td>\n",
       "      <td>0.301257</td>\n",
       "      <td>0.401257</td>\n",
       "      <td>0.501257</td>\n",
       "      <td>0.601257</td>\n",
       "      <td>0.701257</td>\n",
       "      <td>0.801257</td>\n",
       "      <td>0.901257</td>\n",
       "    </tr>\n",
       "  </tbody>\n",
       "</table>\n",
       "</div>"
      ],
      "text/plain": [
       "                a0        a1        a2        a3        a4        a5  \\\n",
       "0.000000  0.000000  0.100000  0.200000  0.300000  0.400000  0.500000   \n",
       "0.000314  0.000314  0.100314  0.200314  0.300314  0.400314  0.500314   \n",
       "0.000628  0.000628  0.100628  0.200628  0.300628  0.400628  0.500628   \n",
       "0.000942  0.000942  0.100942  0.200942  0.300942  0.400942  0.500942   \n",
       "0.001257  0.001257  0.101257  0.201257  0.301257  0.401257  0.501257   \n",
       "\n",
       "                a6        a7        a8        a9  \n",
       "0.000000  0.600000  0.700000  0.800000  0.900000  \n",
       "0.000314  0.600314  0.700314  0.800314  0.900314  \n",
       "0.000628  0.600628  0.700628  0.800628  0.900628  \n",
       "0.000942  0.600942  0.700942  0.800942  0.900942  \n",
       "0.001257  0.601257  0.701257  0.801257  0.901257  "
      ]
     },
     "execution_count": 15,
     "metadata": {},
     "output_type": "execute_result"
    }
   ],
   "source": [
    "print(data_df.shape)\n",
    "data_df.head()"
   ]
  },
  {
   "cell_type": "code",
   "execution_count": 16,
   "metadata": {
    "slideshow": {
     "slide_type": "subslide"
    }
   },
   "outputs": [],
   "source": [
    "%matplotlib inline"
   ]
  },
  {
   "cell_type": "code",
   "execution_count": 17,
   "metadata": {
    "slideshow": {
     "slide_type": "-"
    }
   },
   "outputs": [
    {
     "data": {
      "text/plain": [
       "<matplotlib.axes._subplots.AxesSubplot at 0x7f5a06bce748>"
      ]
     },
     "execution_count": 17,
     "metadata": {},
     "output_type": "execute_result"
    },
    {
     "data": {
      "image/png": "[encoded data removed]",
      "text/plain": [
       "<Figure size 432x288 with 1 Axes>"
      ]
     },
     "metadata": {
      "needs_background": "light"
     },
     "output_type": "display_data"
    }
   ],
   "source": [
    "data_df.plot()"
   ]
  },
  {
   "cell_type": "markdown",
   "metadata": {
    "slideshow": {
     "slide_type": "slide"
    }
   },
   "source": [
    "# <center>Importar datos</center>"
   ]
  },
  {
   "cell_type": "code",
   "execution_count": 46,
   "metadata": {
    "slideshow": {
     "slide_type": "subslide"
    }
   },
   "outputs": [],
   "source": [
    "# Vamos con un CSV\n",
    "cal_csv = pd.read_csv(\"data/Listas Enero-Abril 2019 - 2b.csv\", skiprows=[0])\n",
    "al = [] # vamos a \n",
    "for i in range(len(cal_csv.NOMBRE)):\n",
    "    al.append(\"alumno {:02d}\".format(i+1))\n",
    "cal_csv.set_index(pd.Series(al), inplace=True)\n",
    "del cal_csv['NOMBRE']"
   ]
  },
  {
   "cell_type": "code",
   "execution_count": 47,
   "metadata": {
    "slideshow": {
     "slide_type": "subslide"
    }
   },
   "outputs": [
    {
     "data": {
      "text/html": [
       "<div>\n",
       "<style scoped>\n",
       "    .dataframe tbody tr th:only-of-type {\n",
       "        vertical-align: middle;\n",
       "    }\n",
       "\n",
       "    .dataframe tbody tr th {\n",
       "        vertical-align: top;\n",
       "    }\n",
       "\n",
       "    .dataframe thead th {\n",
       "        text-align: right;\n",
       "    }\n",
       "</style>\n",
       "<table border=\"1\" class=\"dataframe\">\n",
       "  <thead>\n",
       "    <tr style=\"text-align: right;\">\n",
       "      <th></th>\n",
       "      <th>FALTAS</th>\n",
       "      <th>AC</th>\n",
       "      <th>EXAMEN</th>\n",
       "      <th>%EXAMEN</th>\n",
       "      <th>SER</th>\n",
       "      <th>PROYECTO</th>\n",
       "      <th>FINAL</th>\n",
       "    </tr>\n",
       "  </thead>\n",
       "  <tbody>\n",
       "    <tr>\n",
       "      <th>alumno 01</th>\n",
       "      <td>NaN</td>\n",
       "      <td>11.3</td>\n",
       "      <td>5.65</td>\n",
       "      <td>3.1075</td>\n",
       "      <td>0.5</td>\n",
       "      <td>3.8</td>\n",
       "      <td>7.4075</td>\n",
       "    </tr>\n",
       "    <tr>\n",
       "      <th>alumno 02</th>\n",
       "      <td>NaN</td>\n",
       "      <td>12.5</td>\n",
       "      <td>6.25</td>\n",
       "      <td>3.4375</td>\n",
       "      <td>0.5</td>\n",
       "      <td>3.3</td>\n",
       "      <td>7.2375</td>\n",
       "    </tr>\n",
       "    <tr>\n",
       "      <th>alumno 03</th>\n",
       "      <td>NaN</td>\n",
       "      <td>12.3</td>\n",
       "      <td>6.15</td>\n",
       "      <td>3.3825</td>\n",
       "      <td>0.5</td>\n",
       "      <td>3.2</td>\n",
       "      <td>7.0825</td>\n",
       "    </tr>\n",
       "    <tr>\n",
       "      <th>alumno 04</th>\n",
       "      <td>NaN</td>\n",
       "      <td>12.1</td>\n",
       "      <td>6.05</td>\n",
       "      <td>3.3275</td>\n",
       "      <td>0.5</td>\n",
       "      <td>3.7</td>\n",
       "      <td>7.5275</td>\n",
       "    </tr>\n",
       "    <tr>\n",
       "      <th>alumno 05</th>\n",
       "      <td>NaN</td>\n",
       "      <td>13.3</td>\n",
       "      <td>6.65</td>\n",
       "      <td>3.6575</td>\n",
       "      <td>0.5</td>\n",
       "      <td>3.8</td>\n",
       "      <td>7.9575</td>\n",
       "    </tr>\n",
       "    <tr>\n",
       "      <th>alumno 06</th>\n",
       "      <td>NaN</td>\n",
       "      <td>14.6</td>\n",
       "      <td>7.30</td>\n",
       "      <td>4.0150</td>\n",
       "      <td>0.5</td>\n",
       "      <td>0.0</td>\n",
       "      <td>4.5150</td>\n",
       "    </tr>\n",
       "    <tr>\n",
       "      <th>alumno 07</th>\n",
       "      <td>NaN</td>\n",
       "      <td>7.7</td>\n",
       "      <td>3.85</td>\n",
       "      <td>2.1175</td>\n",
       "      <td>0.5</td>\n",
       "      <td>3.5</td>\n",
       "      <td>6.1175</td>\n",
       "    </tr>\n",
       "    <tr>\n",
       "      <th>alumno 08</th>\n",
       "      <td>NaN</td>\n",
       "      <td>14.6</td>\n",
       "      <td>7.30</td>\n",
       "      <td>4.0150</td>\n",
       "      <td>0.5</td>\n",
       "      <td>3.5</td>\n",
       "      <td>8.0150</td>\n",
       "    </tr>\n",
       "    <tr>\n",
       "      <th>alumno 09</th>\n",
       "      <td>NaN</td>\n",
       "      <td>12.4</td>\n",
       "      <td>6.20</td>\n",
       "      <td>3.4100</td>\n",
       "      <td>0.5</td>\n",
       "      <td>3.5</td>\n",
       "      <td>7.4100</td>\n",
       "    </tr>\n",
       "    <tr>\n",
       "      <th>alumno 10</th>\n",
       "      <td>NaN</td>\n",
       "      <td>15.2</td>\n",
       "      <td>7.60</td>\n",
       "      <td>4.1800</td>\n",
       "      <td>0.5</td>\n",
       "      <td>3.5</td>\n",
       "      <td>8.1800</td>\n",
       "    </tr>\n",
       "    <tr>\n",
       "      <th>alumno 11</th>\n",
       "      <td>2.0</td>\n",
       "      <td>12.1</td>\n",
       "      <td>6.05</td>\n",
       "      <td>3.3275</td>\n",
       "      <td>0.5</td>\n",
       "      <td>3.8</td>\n",
       "      <td>7.6275</td>\n",
       "    </tr>\n",
       "    <tr>\n",
       "      <th>alumno 12</th>\n",
       "      <td>2.0</td>\n",
       "      <td>10.6</td>\n",
       "      <td>5.30</td>\n",
       "      <td>2.9150</td>\n",
       "      <td>0.5</td>\n",
       "      <td>3.5</td>\n",
       "      <td>6.9150</td>\n",
       "    </tr>\n",
       "    <tr>\n",
       "      <th>alumno 13</th>\n",
       "      <td>NaN</td>\n",
       "      <td>14.6</td>\n",
       "      <td>7.30</td>\n",
       "      <td>4.0150</td>\n",
       "      <td>0.5</td>\n",
       "      <td>0.0</td>\n",
       "      <td>4.5150</td>\n",
       "    </tr>\n",
       "    <tr>\n",
       "      <th>alumno 14</th>\n",
       "      <td>NaN</td>\n",
       "      <td>14.6</td>\n",
       "      <td>7.30</td>\n",
       "      <td>4.0150</td>\n",
       "      <td>0.5</td>\n",
       "      <td>3.6</td>\n",
       "      <td>8.1150</td>\n",
       "    </tr>\n",
       "    <tr>\n",
       "      <th>alumno 15</th>\n",
       "      <td>NaN</td>\n",
       "      <td>8.1</td>\n",
       "      <td>4.05</td>\n",
       "      <td>2.2275</td>\n",
       "      <td>0.5</td>\n",
       "      <td>3.3</td>\n",
       "      <td>6.0275</td>\n",
       "    </tr>\n",
       "    <tr>\n",
       "      <th>alumno 16</th>\n",
       "      <td>NaN</td>\n",
       "      <td>16.4</td>\n",
       "      <td>8.20</td>\n",
       "      <td>4.5100</td>\n",
       "      <td>0.5</td>\n",
       "      <td>3.5</td>\n",
       "      <td>8.5100</td>\n",
       "    </tr>\n",
       "    <tr>\n",
       "      <th>alumno 17</th>\n",
       "      <td>NaN</td>\n",
       "      <td>11.5</td>\n",
       "      <td>5.75</td>\n",
       "      <td>3.1625</td>\n",
       "      <td>0.5</td>\n",
       "      <td>3.7</td>\n",
       "      <td>7.3625</td>\n",
       "    </tr>\n",
       "    <tr>\n",
       "      <th>alumno 18</th>\n",
       "      <td>NaN</td>\n",
       "      <td>13.0</td>\n",
       "      <td>6.50</td>\n",
       "      <td>3.5750</td>\n",
       "      <td>0.5</td>\n",
       "      <td>3.9</td>\n",
       "      <td>7.9750</td>\n",
       "    </tr>\n",
       "    <tr>\n",
       "      <th>alumno 19</th>\n",
       "      <td>NaN</td>\n",
       "      <td>9.1</td>\n",
       "      <td>4.55</td>\n",
       "      <td>2.5025</td>\n",
       "      <td>0.5</td>\n",
       "      <td>0.0</td>\n",
       "      <td>3.0025</td>\n",
       "    </tr>\n",
       "    <tr>\n",
       "      <th>alumno 20</th>\n",
       "      <td>NaN</td>\n",
       "      <td>10.7</td>\n",
       "      <td>5.35</td>\n",
       "      <td>2.9425</td>\n",
       "      <td>0.5</td>\n",
       "      <td>3.5</td>\n",
       "      <td>6.9425</td>\n",
       "    </tr>\n",
       "    <tr>\n",
       "      <th>alumno 21</th>\n",
       "      <td>NaN</td>\n",
       "      <td>16.4</td>\n",
       "      <td>8.20</td>\n",
       "      <td>4.5100</td>\n",
       "      <td>0.5</td>\n",
       "      <td>3.9</td>\n",
       "      <td>8.9100</td>\n",
       "    </tr>\n",
       "    <tr>\n",
       "      <th>alumno 22</th>\n",
       "      <td>NaN</td>\n",
       "      <td>14.8</td>\n",
       "      <td>7.40</td>\n",
       "      <td>4.0700</td>\n",
       "      <td>0.5</td>\n",
       "      <td>3.6</td>\n",
       "      <td>8.1700</td>\n",
       "    </tr>\n",
       "    <tr>\n",
       "      <th>alumno 23</th>\n",
       "      <td>NaN</td>\n",
       "      <td>7.2</td>\n",
       "      <td>3.60</td>\n",
       "      <td>1.9800</td>\n",
       "      <td>0.5</td>\n",
       "      <td>3.2</td>\n",
       "      <td>5.6800</td>\n",
       "    </tr>\n",
       "    <tr>\n",
       "      <th>alumno 24</th>\n",
       "      <td>NaN</td>\n",
       "      <td>9.0</td>\n",
       "      <td>4.50</td>\n",
       "      <td>2.4750</td>\n",
       "      <td>0.5</td>\n",
       "      <td>1.7</td>\n",
       "      <td>4.6750</td>\n",
       "    </tr>\n",
       "  </tbody>\n",
       "</table>\n",
       "</div>"
      ],
      "text/plain": [
       "           FALTAS    AC  EXAMEN  %EXAMEN  SER  PROYECTO   FINAL\n",
       "alumno 01     NaN  11.3    5.65   3.1075  0.5       3.8  7.4075\n",
       "alumno 02     NaN  12.5    6.25   3.4375  0.5       3.3  7.2375\n",
       "alumno 03     NaN  12.3    6.15   3.3825  0.5       3.2  7.0825\n",
       "alumno 04     NaN  12.1    6.05   3.3275  0.5       3.7  7.5275\n",
       "alumno 05     NaN  13.3    6.65   3.6575  0.5       3.8  7.9575\n",
       "alumno 06     NaN  14.6    7.30   4.0150  0.5       0.0  4.5150\n",
       "alumno 07     NaN   7.7    3.85   2.1175  0.5       3.5  6.1175\n",
       "alumno 08     NaN  14.6    7.30   4.0150  0.5       3.5  8.0150\n",
       "alumno 09     NaN  12.4    6.20   3.4100  0.5       3.5  7.4100\n",
       "alumno 10     NaN  15.2    7.60   4.1800  0.5       3.5  8.1800\n",
       "alumno 11     2.0  12.1    6.05   3.3275  0.5       3.8  7.6275\n",
       "alumno 12     2.0  10.6    5.30   2.9150  0.5       3.5  6.9150\n",
       "alumno 13     NaN  14.6    7.30   4.0150  0.5       0.0  4.5150\n",
       "alumno 14     NaN  14.6    7.30   4.0150  0.5       3.6  8.1150\n",
       "alumno 15     NaN   8.1    4.05   2.2275  0.5       3.3  6.0275\n",
       "alumno 16     NaN  16.4    8.20   4.5100  0.5       3.5  8.5100\n",
       "alumno 17     NaN  11.5    5.75   3.1625  0.5       3.7  7.3625\n",
       "alumno 18     NaN  13.0    6.50   3.5750  0.5       3.9  7.9750\n",
       "alumno 19     NaN   9.1    4.55   2.5025  0.5       0.0  3.0025\n",
       "alumno 20     NaN  10.7    5.35   2.9425  0.5       3.5  6.9425\n",
       "alumno 21     NaN  16.4    8.20   4.5100  0.5       3.9  8.9100\n",
       "alumno 22     NaN  14.8    7.40   4.0700  0.5       3.6  8.1700\n",
       "alumno 23     NaN   7.2    3.60   1.9800  0.5       3.2  5.6800\n",
       "alumno 24     NaN   9.0    4.50   2.4750  0.5       1.7  4.6750"
      ]
     },
     "execution_count": 47,
     "metadata": {},
     "output_type": "execute_result"
    }
   ],
   "source": [
    "cal_csv"
   ]
  },
  {
   "cell_type": "code",
   "execution_count": 32,
   "metadata": {
    "slideshow": {
     "slide_type": "subslide"
    }
   },
   "outputs": [],
   "source": [
    "# Numeritos >> NaN\n",
    "cal_csv.FALTAS[np.isnan(cal_csv['FALTAS'])] = 0"
   ]
  },
  {
   "cell_type": "code",
   "execution_count": 33,
   "metadata": {
    "slideshow": {
     "slide_type": "subslide"
    }
   },
   "outputs": [
    {
     "data": {
      "text/html": [
       "<div>\n",
       "<style scoped>\n",
       "    .dataframe tbody tr th:only-of-type {\n",
       "        vertical-align: middle;\n",
       "    }\n",
       "\n",
       "    .dataframe tbody tr th {\n",
       "        vertical-align: top;\n",
       "    }\n",
       "\n",
       "    .dataframe thead th {\n",
       "        text-align: right;\n",
       "    }\n",
       "</style>\n",
       "<table border=\"1\" class=\"dataframe\">\n",
       "  <thead>\n",
       "    <tr style=\"text-align: right;\">\n",
       "      <th></th>\n",
       "      <th>FALTAS</th>\n",
       "      <th>AC</th>\n",
       "      <th>EXAMEN</th>\n",
       "      <th>%EXAMEN</th>\n",
       "      <th>SER</th>\n",
       "      <th>PROYECTO</th>\n",
       "      <th>FINAL</th>\n",
       "    </tr>\n",
       "  </thead>\n",
       "  <tbody>\n",
       "    <tr>\n",
       "      <th>alumno 00</th>\n",
       "      <td>0.0</td>\n",
       "      <td>11.3</td>\n",
       "      <td>5.65</td>\n",
       "      <td>3.1075</td>\n",
       "      <td>0.5</td>\n",
       "      <td>3.8</td>\n",
       "      <td>7.4075</td>\n",
       "    </tr>\n",
       "    <tr>\n",
       "      <th>alumno 01</th>\n",
       "      <td>0.0</td>\n",
       "      <td>12.5</td>\n",
       "      <td>6.25</td>\n",
       "      <td>3.4375</td>\n",
       "      <td>0.5</td>\n",
       "      <td>3.3</td>\n",
       "      <td>7.2375</td>\n",
       "    </tr>\n",
       "    <tr>\n",
       "      <th>alumno 02</th>\n",
       "      <td>0.0</td>\n",
       "      <td>12.3</td>\n",
       "      <td>6.15</td>\n",
       "      <td>3.3825</td>\n",
       "      <td>0.5</td>\n",
       "      <td>3.2</td>\n",
       "      <td>7.0825</td>\n",
       "    </tr>\n",
       "    <tr>\n",
       "      <th>alumno 03</th>\n",
       "      <td>0.0</td>\n",
       "      <td>12.1</td>\n",
       "      <td>6.05</td>\n",
       "      <td>3.3275</td>\n",
       "      <td>0.5</td>\n",
       "      <td>3.7</td>\n",
       "      <td>7.5275</td>\n",
       "    </tr>\n",
       "    <tr>\n",
       "      <th>alumno 04</th>\n",
       "      <td>0.0</td>\n",
       "      <td>13.3</td>\n",
       "      <td>6.65</td>\n",
       "      <td>3.6575</td>\n",
       "      <td>0.5</td>\n",
       "      <td>3.8</td>\n",
       "      <td>7.9575</td>\n",
       "    </tr>\n",
       "    <tr>\n",
       "      <th>alumno 05</th>\n",
       "      <td>0.0</td>\n",
       "      <td>14.6</td>\n",
       "      <td>7.30</td>\n",
       "      <td>4.0150</td>\n",
       "      <td>0.5</td>\n",
       "      <td>0.0</td>\n",
       "      <td>4.5150</td>\n",
       "    </tr>\n",
       "    <tr>\n",
       "      <th>alumno 06</th>\n",
       "      <td>0.0</td>\n",
       "      <td>7.7</td>\n",
       "      <td>3.85</td>\n",
       "      <td>2.1175</td>\n",
       "      <td>0.5</td>\n",
       "      <td>3.5</td>\n",
       "      <td>6.1175</td>\n",
       "    </tr>\n",
       "    <tr>\n",
       "      <th>alumno 07</th>\n",
       "      <td>0.0</td>\n",
       "      <td>14.6</td>\n",
       "      <td>7.30</td>\n",
       "      <td>4.0150</td>\n",
       "      <td>0.5</td>\n",
       "      <td>3.5</td>\n",
       "      <td>8.0150</td>\n",
       "    </tr>\n",
       "    <tr>\n",
       "      <th>alumno 08</th>\n",
       "      <td>0.0</td>\n",
       "      <td>12.4</td>\n",
       "      <td>6.20</td>\n",
       "      <td>3.4100</td>\n",
       "      <td>0.5</td>\n",
       "      <td>3.5</td>\n",
       "      <td>7.4100</td>\n",
       "    </tr>\n",
       "    <tr>\n",
       "      <th>alumno 09</th>\n",
       "      <td>0.0</td>\n",
       "      <td>15.2</td>\n",
       "      <td>7.60</td>\n",
       "      <td>4.1800</td>\n",
       "      <td>0.5</td>\n",
       "      <td>3.5</td>\n",
       "      <td>8.1800</td>\n",
       "    </tr>\n",
       "    <tr>\n",
       "      <th>alumno 10</th>\n",
       "      <td>2.0</td>\n",
       "      <td>12.1</td>\n",
       "      <td>6.05</td>\n",
       "      <td>3.3275</td>\n",
       "      <td>0.5</td>\n",
       "      <td>3.8</td>\n",
       "      <td>7.6275</td>\n",
       "    </tr>\n",
       "    <tr>\n",
       "      <th>alumno 11</th>\n",
       "      <td>2.0</td>\n",
       "      <td>10.6</td>\n",
       "      <td>5.30</td>\n",
       "      <td>2.9150</td>\n",
       "      <td>0.5</td>\n",
       "      <td>3.5</td>\n",
       "      <td>6.9150</td>\n",
       "    </tr>\n",
       "    <tr>\n",
       "      <th>alumno 12</th>\n",
       "      <td>0.0</td>\n",
       "      <td>14.6</td>\n",
       "      <td>7.30</td>\n",
       "      <td>4.0150</td>\n",
       "      <td>0.5</td>\n",
       "      <td>0.0</td>\n",
       "      <td>4.5150</td>\n",
       "    </tr>\n",
       "    <tr>\n",
       "      <th>alumno 13</th>\n",
       "      <td>0.0</td>\n",
       "      <td>14.6</td>\n",
       "      <td>7.30</td>\n",
       "      <td>4.0150</td>\n",
       "      <td>0.5</td>\n",
       "      <td>3.6</td>\n",
       "      <td>8.1150</td>\n",
       "    </tr>\n",
       "    <tr>\n",
       "      <th>alumno 14</th>\n",
       "      <td>0.0</td>\n",
       "      <td>8.1</td>\n",
       "      <td>4.05</td>\n",
       "      <td>2.2275</td>\n",
       "      <td>0.5</td>\n",
       "      <td>3.3</td>\n",
       "      <td>6.0275</td>\n",
       "    </tr>\n",
       "    <tr>\n",
       "      <th>alumno 15</th>\n",
       "      <td>0.0</td>\n",
       "      <td>16.4</td>\n",
       "      <td>8.20</td>\n",
       "      <td>4.5100</td>\n",
       "      <td>0.5</td>\n",
       "      <td>3.5</td>\n",
       "      <td>8.5100</td>\n",
       "    </tr>\n",
       "    <tr>\n",
       "      <th>alumno 16</th>\n",
       "      <td>0.0</td>\n",
       "      <td>11.5</td>\n",
       "      <td>5.75</td>\n",
       "      <td>3.1625</td>\n",
       "      <td>0.5</td>\n",
       "      <td>3.7</td>\n",
       "      <td>7.3625</td>\n",
       "    </tr>\n",
       "    <tr>\n",
       "      <th>alumno 17</th>\n",
       "      <td>0.0</td>\n",
       "      <td>13.0</td>\n",
       "      <td>6.50</td>\n",
       "      <td>3.5750</td>\n",
       "      <td>0.5</td>\n",
       "      <td>3.9</td>\n",
       "      <td>7.9750</td>\n",
       "    </tr>\n",
       "    <tr>\n",
       "      <th>alumno 18</th>\n",
       "      <td>0.0</td>\n",
       "      <td>9.1</td>\n",
       "      <td>4.55</td>\n",
       "      <td>2.5025</td>\n",
       "      <td>0.5</td>\n",
       "      <td>0.0</td>\n",
       "      <td>3.0025</td>\n",
       "    </tr>\n",
       "    <tr>\n",
       "      <th>alumno 19</th>\n",
       "      <td>0.0</td>\n",
       "      <td>10.7</td>\n",
       "      <td>5.35</td>\n",
       "      <td>2.9425</td>\n",
       "      <td>0.5</td>\n",
       "      <td>3.5</td>\n",
       "      <td>6.9425</td>\n",
       "    </tr>\n",
       "    <tr>\n",
       "      <th>alumno 20</th>\n",
       "      <td>0.0</td>\n",
       "      <td>16.4</td>\n",
       "      <td>8.20</td>\n",
       "      <td>4.5100</td>\n",
       "      <td>0.5</td>\n",
       "      <td>3.9</td>\n",
       "      <td>8.9100</td>\n",
       "    </tr>\n",
       "    <tr>\n",
       "      <th>alumno 21</th>\n",
       "      <td>0.0</td>\n",
       "      <td>14.8</td>\n",
       "      <td>7.40</td>\n",
       "      <td>4.0700</td>\n",
       "      <td>0.5</td>\n",
       "      <td>3.6</td>\n",
       "      <td>8.1700</td>\n",
       "    </tr>\n",
       "    <tr>\n",
       "      <th>alumno 22</th>\n",
       "      <td>0.0</td>\n",
       "      <td>7.2</td>\n",
       "      <td>3.60</td>\n",
       "      <td>1.9800</td>\n",
       "      <td>0.5</td>\n",
       "      <td>3.2</td>\n",
       "      <td>5.6800</td>\n",
       "    </tr>\n",
       "    <tr>\n",
       "      <th>alumno 23</th>\n",
       "      <td>0.0</td>\n",
       "      <td>9.0</td>\n",
       "      <td>4.50</td>\n",
       "      <td>2.4750</td>\n",
       "      <td>0.5</td>\n",
       "      <td>1.7</td>\n",
       "      <td>4.6750</td>\n",
       "    </tr>\n",
       "  </tbody>\n",
       "</table>\n",
       "</div>"
      ],
      "text/plain": [
       "           FALTAS    AC  EXAMEN  %EXAMEN  SER  PROYECTO   FINAL\n",
       "alumno 00     0.0  11.3    5.65   3.1075  0.5       3.8  7.4075\n",
       "alumno 01     0.0  12.5    6.25   3.4375  0.5       3.3  7.2375\n",
       "alumno 02     0.0  12.3    6.15   3.3825  0.5       3.2  7.0825\n",
       "alumno 03     0.0  12.1    6.05   3.3275  0.5       3.7  7.5275\n",
       "alumno 04     0.0  13.3    6.65   3.6575  0.5       3.8  7.9575\n",
       "alumno 05     0.0  14.6    7.30   4.0150  0.5       0.0  4.5150\n",
       "alumno 06     0.0   7.7    3.85   2.1175  0.5       3.5  6.1175\n",
       "alumno 07     0.0  14.6    7.30   4.0150  0.5       3.5  8.0150\n",
       "alumno 08     0.0  12.4    6.20   3.4100  0.5       3.5  7.4100\n",
       "alumno 09     0.0  15.2    7.60   4.1800  0.5       3.5  8.1800\n",
       "alumno 10     2.0  12.1    6.05   3.3275  0.5       3.8  7.6275\n",
       "alumno 11     2.0  10.6    5.30   2.9150  0.5       3.5  6.9150\n",
       "alumno 12     0.0  14.6    7.30   4.0150  0.5       0.0  4.5150\n",
       "alumno 13     0.0  14.6    7.30   4.0150  0.5       3.6  8.1150\n",
       "alumno 14     0.0   8.1    4.05   2.2275  0.5       3.3  6.0275\n",
       "alumno 15     0.0  16.4    8.20   4.5100  0.5       3.5  8.5100\n",
       "alumno 16     0.0  11.5    5.75   3.1625  0.5       3.7  7.3625\n",
       "alumno 17     0.0  13.0    6.50   3.5750  0.5       3.9  7.9750\n",
       "alumno 18     0.0   9.1    4.55   2.5025  0.5       0.0  3.0025\n",
       "alumno 19     0.0  10.7    5.35   2.9425  0.5       3.5  6.9425\n",
       "alumno 20     0.0  16.4    8.20   4.5100  0.5       3.9  8.9100\n",
       "alumno 21     0.0  14.8    7.40   4.0700  0.5       3.6  8.1700\n",
       "alumno 22     0.0   7.2    3.60   1.9800  0.5       3.2  5.6800\n",
       "alumno 23     0.0   9.0    4.50   2.4750  0.5       1.7  4.6750"
      ]
     },
     "execution_count": 33,
     "metadata": {},
     "output_type": "execute_result"
    }
   ],
   "source": [
    "cal_csv"
   ]
  },
  {
   "cell_type": "code",
   "execution_count": 35,
   "metadata": {
    "slideshow": {
     "slide_type": "subslide"
    }
   },
   "outputs": [
    {
     "data": {
      "text/html": [
       "<div>\n",
       "<style scoped>\n",
       "    .dataframe tbody tr th:only-of-type {\n",
       "        vertical-align: middle;\n",
       "    }\n",
       "\n",
       "    .dataframe tbody tr th {\n",
       "        vertical-align: top;\n",
       "    }\n",
       "\n",
       "    .dataframe thead th {\n",
       "        text-align: right;\n",
       "    }\n",
       "</style>\n",
       "<table border=\"1\" class=\"dataframe\">\n",
       "  <thead>\n",
       "    <tr style=\"text-align: right;\">\n",
       "      <th></th>\n",
       "      <th>FALTAS</th>\n",
       "      <th>AC</th>\n",
       "      <th>EXAMEN</th>\n",
       "      <th>%EXAMEN</th>\n",
       "      <th>SER</th>\n",
       "      <th>PROYECTO</th>\n",
       "      <th>FINAL</th>\n",
       "    </tr>\n",
       "  </thead>\n",
       "  <tbody>\n",
       "    <tr>\n",
       "      <th>count</th>\n",
       "      <td>24.000000</td>\n",
       "      <td>24.000000</td>\n",
       "      <td>24.000000</td>\n",
       "      <td>24.000000</td>\n",
       "      <td>24.0</td>\n",
       "      <td>24.000000</td>\n",
       "      <td>24.000000</td>\n",
       "    </tr>\n",
       "    <tr>\n",
       "      <th>mean</th>\n",
       "      <td>0.166667</td>\n",
       "      <td>12.254167</td>\n",
       "      <td>6.127083</td>\n",
       "      <td>3.369896</td>\n",
       "      <td>0.5</td>\n",
       "      <td>3.041667</td>\n",
       "      <td>6.911562</td>\n",
       "    </tr>\n",
       "    <tr>\n",
       "      <th>std</th>\n",
       "      <td>0.564660</td>\n",
       "      <td>2.670610</td>\n",
       "      <td>1.335305</td>\n",
       "      <td>0.734418</td>\n",
       "      <td>0.0</td>\n",
       "      <td>1.249319</td>\n",
       "      <td>1.489923</td>\n",
       "    </tr>\n",
       "    <tr>\n",
       "      <th>min</th>\n",
       "      <td>0.000000</td>\n",
       "      <td>7.200000</td>\n",
       "      <td>3.600000</td>\n",
       "      <td>1.980000</td>\n",
       "      <td>0.5</td>\n",
       "      <td>0.000000</td>\n",
       "      <td>3.002500</td>\n",
       "    </tr>\n",
       "    <tr>\n",
       "      <th>25%</th>\n",
       "      <td>0.000000</td>\n",
       "      <td>10.675000</td>\n",
       "      <td>5.337500</td>\n",
       "      <td>2.935625</td>\n",
       "      <td>0.5</td>\n",
       "      <td>3.275000</td>\n",
       "      <td>6.095000</td>\n",
       "    </tr>\n",
       "    <tr>\n",
       "      <th>50%</th>\n",
       "      <td>0.000000</td>\n",
       "      <td>12.350000</td>\n",
       "      <td>6.175000</td>\n",
       "      <td>3.396250</td>\n",
       "      <td>0.5</td>\n",
       "      <td>3.500000</td>\n",
       "      <td>7.385000</td>\n",
       "    </tr>\n",
       "    <tr>\n",
       "      <th>75%</th>\n",
       "      <td>0.000000</td>\n",
       "      <td>14.600000</td>\n",
       "      <td>7.300000</td>\n",
       "      <td>4.015000</td>\n",
       "      <td>0.5</td>\n",
       "      <td>3.700000</td>\n",
       "      <td>7.985000</td>\n",
       "    </tr>\n",
       "    <tr>\n",
       "      <th>max</th>\n",
       "      <td>2.000000</td>\n",
       "      <td>16.400000</td>\n",
       "      <td>8.200000</td>\n",
       "      <td>4.510000</td>\n",
       "      <td>0.5</td>\n",
       "      <td>3.900000</td>\n",
       "      <td>8.910000</td>\n",
       "    </tr>\n",
       "  </tbody>\n",
       "</table>\n",
       "</div>"
      ],
      "text/plain": [
       "          FALTAS         AC     EXAMEN    %EXAMEN   SER   PROYECTO      FINAL\n",
       "count  24.000000  24.000000  24.000000  24.000000  24.0  24.000000  24.000000\n",
       "mean    0.166667  12.254167   6.127083   3.369896   0.5   3.041667   6.911562\n",
       "std     0.564660   2.670610   1.335305   0.734418   0.0   1.249319   1.489923\n",
       "min     0.000000   7.200000   3.600000   1.980000   0.5   0.000000   3.002500\n",
       "25%     0.000000  10.675000   5.337500   2.935625   0.5   3.275000   6.095000\n",
       "50%     0.000000  12.350000   6.175000   3.396250   0.5   3.500000   7.385000\n",
       "75%     0.000000  14.600000   7.300000   4.015000   0.5   3.700000   7.985000\n",
       "max     2.000000  16.400000   8.200000   4.510000   0.5   3.900000   8.910000"
      ]
     },
     "execution_count": 35,
     "metadata": {},
     "output_type": "execute_result"
    }
   ],
   "source": [
    "cal_csv.describe()"
   ]
  },
  {
   "cell_type": "code",
   "execution_count": 36,
   "metadata": {
    "slideshow": {
     "slide_type": "subslide"
    }
   },
   "outputs": [
    {
     "data": {
      "text/plain": [
       "array([[<matplotlib.axes._subplots.AxesSubplot object at 0x7f5a03d5bb00>]],\n",
       "      dtype=object)"
      ]
     },
     "execution_count": 36,
     "metadata": {},
     "output_type": "execute_result"
    },
    {
     "data": {
      "image/png": "[encoded data removed]",
      "text/plain": [
       "<Figure size 432x288 with 1 Axes>"
      ]
     },
     "metadata": {
      "needs_background": "light"
     },
     "output_type": "display_data"
    }
   ],
   "source": [
    "cal_csv.hist(\"FINAL\")"
   ]
  },
  {
   "cell_type": "markdown",
   "metadata": {
    "slideshow": {
     "slide_type": "slide"
    }
   },
   "source": [
    "# <center>Excel(!?)</center>"
   ]
  },
  {
   "cell_type": "code",
   "execution_count": 45,
   "metadata": {
    "scrolled": true
   },
   "outputs": [
    {
     "data": {
      "text/html": [
       "<div>\n",
       "<style scoped>\n",
       "    .dataframe tbody tr th:only-of-type {\n",
       "        vertical-align: middle;\n",
       "    }\n",
       "\n",
       "    .dataframe tbody tr th {\n",
       "        vertical-align: top;\n",
       "    }\n",
       "\n",
       "    .dataframe thead th {\n",
       "        text-align: right;\n",
       "    }\n",
       "</style>\n",
       "<table border=\"1\" class=\"dataframe\">\n",
       "  <thead>\n",
       "    <tr style=\"text-align: right;\">\n",
       "      <th></th>\n",
       "      <th>FALTAS</th>\n",
       "      <th>AC</th>\n",
       "      <th>EXAMEN</th>\n",
       "      <th>%EXAMEN</th>\n",
       "      <th>SER</th>\n",
       "      <th>PROYECTO</th>\n",
       "      <th>FINAL</th>\n",
       "    </tr>\n",
       "  </thead>\n",
       "  <tbody>\n",
       "    <tr>\n",
       "      <th>alumno 00</th>\n",
       "      <td>0.0</td>\n",
       "      <td>11.3</td>\n",
       "      <td>5.65</td>\n",
       "      <td>3.1075</td>\n",
       "      <td>0.5</td>\n",
       "      <td>3.8</td>\n",
       "      <td>7.4075</td>\n",
       "    </tr>\n",
       "    <tr>\n",
       "      <th>alumno 01</th>\n",
       "      <td>0.0</td>\n",
       "      <td>12.5</td>\n",
       "      <td>6.25</td>\n",
       "      <td>3.4375</td>\n",
       "      <td>0.5</td>\n",
       "      <td>3.3</td>\n",
       "      <td>7.2375</td>\n",
       "    </tr>\n",
       "    <tr>\n",
       "      <th>alumno 02</th>\n",
       "      <td>0.0</td>\n",
       "      <td>12.3</td>\n",
       "      <td>6.15</td>\n",
       "      <td>3.3825</td>\n",
       "      <td>0.5</td>\n",
       "      <td>3.2</td>\n",
       "      <td>7.0825</td>\n",
       "    </tr>\n",
       "    <tr>\n",
       "      <th>alumno 03</th>\n",
       "      <td>0.0</td>\n",
       "      <td>12.1</td>\n",
       "      <td>6.05</td>\n",
       "      <td>3.3275</td>\n",
       "      <td>0.5</td>\n",
       "      <td>3.7</td>\n",
       "      <td>7.5275</td>\n",
       "    </tr>\n",
       "    <tr>\n",
       "      <th>alumno 04</th>\n",
       "      <td>0.0</td>\n",
       "      <td>13.3</td>\n",
       "      <td>6.65</td>\n",
       "      <td>3.6575</td>\n",
       "      <td>0.5</td>\n",
       "      <td>3.8</td>\n",
       "      <td>7.9575</td>\n",
       "    </tr>\n",
       "  </tbody>\n",
       "</table>\n",
       "</div>"
      ],
      "text/plain": [
       "           FALTAS    AC  EXAMEN  %EXAMEN  SER  PROYECTO   FINAL\n",
       "alumno 00     0.0  11.3    5.65   3.1075  0.5       3.8  7.4075\n",
       "alumno 01     0.0  12.5    6.25   3.4375  0.5       3.3  7.2375\n",
       "alumno 02     0.0  12.3    6.15   3.3825  0.5       3.2  7.0825\n",
       "alumno 03     0.0  12.1    6.05   3.3275  0.5       3.7  7.5275\n",
       "alumno 04     0.0  13.3    6.65   3.6575  0.5       3.8  7.9575"
      ]
     },
     "execution_count": 45,
     "metadata": {},
     "output_type": "execute_result"
    }
   ],
   "source": [
    "# pip3 install xlrd\n",
    "cal_xls = pd.read_excel(\"data/Listas Enero-Abril 2019.xlsx\", sheet_name=\"2b\", skiprows=[0])\n",
    "\n",
    "al = [] # vamos a \n",
    "for i in range(len(cal_xls.NOMBRE)):\n",
    "    al.append(\"alumno {:02d}\".format(i+1))\n",
    "cal_xls.set_index(pd.Series(al), inplace=True)\n",
    "del cal_xls['NOMBRE']\n",
    "cal_xls.FALTAS[np.isnan(cal_xls['FALTAS'])] = 0\n",
    "cal_xls.head()"
   ]
  },
  {
   "cell_type": "code",
   "execution_count": 48,
   "metadata": {},
   "outputs": [
    {
     "data": {
      "text/plain": [
       "array([[<matplotlib.axes._subplots.AxesSubplot object at 0x7f5a03adcda0>]],\n",
       "      dtype=object)"
      ]
     },
     "execution_count": 48,
     "metadata": {},
     "output_type": "execute_result"
    },
    {
     "data": {
      "image/png": "[encoded data removed]",
      "text/plain": [
       "<Figure size 432x288 with 1 Axes>"
      ]
     },
     "metadata": {
      "needs_background": "light"
     },
     "output_type": "display_data"
    }
   ],
   "source": [
    "cal_xls.hist(\"FINAL\")"
   ]
  },
  {
   "cell_type": "code",
   "execution_count": 49,
   "metadata": {},
   "outputs": [],
   "source": [
    "cals = pd.ExcelFile(\"data/Listas Enero-Abril 2019.xlsx\")"
   ]
  },
  {
   "cell_type": "code",
   "execution_count": 50,
   "metadata": {},
   "outputs": [
    {
     "data": {
      "text/plain": [
       "['2b', '2c', '2d']"
      ]
     },
     "execution_count": 50,
     "metadata": {},
     "output_type": "execute_result"
    }
   ],
   "source": [
    "cals.sheet_names"
   ]
  },
  {
   "cell_type": "code",
   "execution_count": 57,
   "metadata": {},
   "outputs": [
    {
     "data": {
      "text/html": [
       "<div>\n",
       "<style scoped>\n",
       "    .dataframe tbody tr th:only-of-type {\n",
       "        vertical-align: middle;\n",
       "    }\n",
       "\n",
       "    .dataframe tbody tr th {\n",
       "        vertical-align: top;\n",
       "    }\n",
       "\n",
       "    .dataframe thead th {\n",
       "        text-align: right;\n",
       "    }\n",
       "</style>\n",
       "<table border=\"1\" class=\"dataframe\">\n",
       "  <thead>\n",
       "    <tr style=\"text-align: right;\">\n",
       "      <th></th>\n",
       "      <th>FALTAS</th>\n",
       "      <th>AC</th>\n",
       "      <th>EXAMEN</th>\n",
       "      <th>%EXAMEN</th>\n",
       "      <th>SER</th>\n",
       "      <th>PROYECTO</th>\n",
       "      <th>FINAL</th>\n",
       "    </tr>\n",
       "  </thead>\n",
       "  <tbody>\n",
       "    <tr>\n",
       "      <th>count</th>\n",
       "      <td>2.0</td>\n",
       "      <td>21.000000</td>\n",
       "      <td>21.000000</td>\n",
       "      <td>21.000000</td>\n",
       "      <td>21.0</td>\n",
       "      <td>20.000000</td>\n",
       "      <td>21.000000</td>\n",
       "    </tr>\n",
       "    <tr>\n",
       "      <th>mean</th>\n",
       "      <td>1.0</td>\n",
       "      <td>11.209524</td>\n",
       "      <td>5.604762</td>\n",
       "      <td>3.082619</td>\n",
       "      <td>0.5</td>\n",
       "      <td>3.540000</td>\n",
       "      <td>6.954048</td>\n",
       "    </tr>\n",
       "    <tr>\n",
       "      <th>std</th>\n",
       "      <td>0.0</td>\n",
       "      <td>2.863897</td>\n",
       "      <td>1.431948</td>\n",
       "      <td>0.787572</td>\n",
       "      <td>0.0</td>\n",
       "      <td>0.088258</td>\n",
       "      <td>1.023728</td>\n",
       "    </tr>\n",
       "    <tr>\n",
       "      <th>min</th>\n",
       "      <td>1.0</td>\n",
       "      <td>5.800000</td>\n",
       "      <td>2.900000</td>\n",
       "      <td>1.595000</td>\n",
       "      <td>0.5</td>\n",
       "      <td>3.300000</td>\n",
       "      <td>4.130000</td>\n",
       "    </tr>\n",
       "    <tr>\n",
       "      <th>25%</th>\n",
       "      <td>1.0</td>\n",
       "      <td>10.100000</td>\n",
       "      <td>5.050000</td>\n",
       "      <td>2.777500</td>\n",
       "      <td>0.5</td>\n",
       "      <td>3.500000</td>\n",
       "      <td>6.602500</td>\n",
       "    </tr>\n",
       "    <tr>\n",
       "      <th>50%</th>\n",
       "      <td>1.0</td>\n",
       "      <td>10.900000</td>\n",
       "      <td>5.450000</td>\n",
       "      <td>2.997500</td>\n",
       "      <td>0.5</td>\n",
       "      <td>3.600000</td>\n",
       "      <td>6.997500</td>\n",
       "    </tr>\n",
       "    <tr>\n",
       "      <th>75%</th>\n",
       "      <td>1.0</td>\n",
       "      <td>13.000000</td>\n",
       "      <td>6.500000</td>\n",
       "      <td>3.575000</td>\n",
       "      <td>0.5</td>\n",
       "      <td>3.600000</td>\n",
       "      <td>7.382500</td>\n",
       "    </tr>\n",
       "    <tr>\n",
       "      <th>max</th>\n",
       "      <td>1.0</td>\n",
       "      <td>17.400000</td>\n",
       "      <td>8.700000</td>\n",
       "      <td>4.785000</td>\n",
       "      <td>0.5</td>\n",
       "      <td>3.600000</td>\n",
       "      <td>8.885000</td>\n",
       "    </tr>\n",
       "  </tbody>\n",
       "</table>\n",
       "</div>"
      ],
      "text/plain": [
       "       FALTAS         AC     EXAMEN    %EXAMEN   SER   PROYECTO      FINAL\n",
       "count     2.0  21.000000  21.000000  21.000000  21.0  20.000000  21.000000\n",
       "mean      1.0  11.209524   5.604762   3.082619   0.5   3.540000   6.954048\n",
       "std       0.0   2.863897   1.431948   0.787572   0.0   0.088258   1.023728\n",
       "min       1.0   5.800000   2.900000   1.595000   0.5   3.300000   4.130000\n",
       "25%       1.0  10.100000   5.050000   2.777500   0.5   3.500000   6.602500\n",
       "50%       1.0  10.900000   5.450000   2.997500   0.5   3.600000   6.997500\n",
       "75%       1.0  13.000000   6.500000   3.575000   0.5   3.600000   7.382500\n",
       "max       1.0  17.400000   8.700000   4.785000   0.5   3.600000   8.885000"
      ]
     },
     "execution_count": 57,
     "metadata": {},
     "output_type": "execute_result"
    }
   ],
   "source": [
    "cal_2c = cals.parse(sheet_name=\"2c\", skiprows=[0])\n",
    "del cal_2c[\"NOMBRE\"] # Anonimizar\n",
    "cal_2c.describe()"
   ]
  },
  {
   "cell_type": "code",
   "execution_count": 65,
   "metadata": {},
   "outputs": [
    {
     "data": {
      "text/plain": [
       "<matplotlib.axes._subplots.AxesSubplot at 0x7f5a033ab710>"
      ]
     },
     "execution_count": 65,
     "metadata": {},
     "output_type": "execute_result"
    },
    {
     "data": {
      "image/png": "[encoded data removed]",
      "text/plain": [
       "<Figure size 432x288 with 1 Axes>"
      ]
     },
     "metadata": {
      "needs_background": "light"
     },
     "output_type": "display_data"
    }
   ],
   "source": [
    "cal_2c.FINAL.hist()"
   ]
  },
  {
   "cell_type": "code",
   "execution_count": null,
   "metadata": {},
   "outputs": [],
   "source": []
  }
 ],
 "metadata": {
  "celltoolbar": "Slideshow",
  "kernelspec": {
   "display_name": "Python 3",
   "language": "python",
   "name": "python3"
  },
  "toc": {
   "base_numbering": 1,
   "nav_menu": {},
   "number_sections": false,
   "sideBar": true,
   "skip_h1_title": true,
   "title_cell": "Table of Contents",
   "title_sidebar": "Contents",
   "toc_cell": false,
   "toc_position": {},
   "toc_section_display": true,
   "toc_window_display": false
  }
 },
 "nbformat": 4,
 "nbformat_minor": 2
}
